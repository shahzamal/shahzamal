{
 "cells": [
  {
   "cell_type": "markdown",
   "id": "6884f98f",
   "metadata": {},
   "source": [
    "# List\n",
    "Lists are used to store multiple items in a single variable.It is a most versatile datatype available in Python.List items are ordered, changeable, and allow duplicate values.Lists are created using square brackets:<br>\n",
    "list1 = ['Messi', 'Ronaldo', 1999, 2000];<br>\n",
    "list2 = [1, 2, 3, 4, 5 ];<br>\n",
    "list3 = [\"a\", \"b\", 1, 10.34]<br>"
   ]
  },
  {
   "cell_type": "markdown",
   "id": "a68f92a6",
   "metadata": {},
   "source": [
    "## Accessing Values in Lists\n",
    "Similar to string indices, list indices start at 0, and lists can be sliced, concatenated and so on.List items are indexed, the first item has index [0], the second item has index [1] etc.For example −"
   ]
  },
  {
   "cell_type": "code",
   "execution_count": 6,
   "id": "d542ac2e",
   "metadata": {},
   "outputs": [
    {
     "name": "stdout",
     "output_type": "stream",
     "text": [
      "list1[0]:  Messi\n",
      "list2[1:5]:  [2, 'A', 4.11, 5]\n"
     ]
    }
   ],
   "source": [
    "list1 = ['Messi', 'Ronaldo', 1990, 2000];\n",
    "list2 = [1, 2, \"A\", 4.11, 5, 6, 7 ];\n",
    "print(\"list1[0]: \", list1[0])\n",
    "print(\"list2[1:5]: \", list2[1:5])"
   ]
  },
  {
   "cell_type": "markdown",
   "id": "7349ca85",
   "metadata": {},
   "source": [
    "## Updating Lists\n",
    "We can change, add, and remove items in a list after it has been created."
   ]
  },
  {
   "cell_type": "code",
   "execution_count": 21,
   "id": "41b6898d",
   "metadata": {},
   "outputs": [
    {
     "name": "stdout",
     "output_type": "stream",
     "text": [
      "Value available at index 1 : \n",
      "Neymar\n",
      "Value available at index 2 : \n",
      "1999\n",
      "Updated value available at index 1 : \n",
      "Ronaldo\n",
      "Updated value available at index 2 : \n",
      "2001\n",
      "After deleting value at index 3 : \n",
      "['Messi', 'Ronaldo', 2001]\n",
      "After adding data in list : \n",
      "['Messi', 'Ronaldo', 2001, 'Python', 2022]\n"
     ]
    }
   ],
   "source": [
    "list = ['Messi', 'Neymar', 1999, 2000];\n",
    "print(\"Value available at index 1 : \")\n",
    "print(list[1])\n",
    "print(\"Value available at index 2 : \")\n",
    "print(list[2])\n",
    "list[1]='Ronaldo'\n",
    "list[2] = 2001;\n",
    "print(\"Updated value available at index 1 : \")\n",
    "print(list[1])\n",
    "print(\"Updated value available at index 2 : \")\n",
    "print(list[2])\n",
    "\n",
    "#remove a list element\n",
    "del list[3]\n",
    "print(\"After deleting value at index 3 : \")\n",
    "print(list)\n",
    "\n",
    "#add data in list\n",
    "list.extend([\"Python\", 2022])\n",
    "print(\"After adding data in list : \")\n",
    "print(list)"
   ]
  },
  {
   "cell_type": "markdown",
   "id": "3904a4f8",
   "metadata": {},
   "source": [
    "## Basic List Operations\n",
    "Lists respond to the + and * operators much like strings.\n",
    "\n",
    "|Python Expression||Results||Description|\n",
    "|:----||:-----||:----|\n",
    "|len([1, 2, 3,'A'])||4||Length|\n",
    "|[1, 2, 3] + [4, 5, 6]||[1, 2, 3, 4, 5, 6]||Concatenation|\n",
    "|['Hi!'] * 4||['Hi!', 'Hi!', 'Hi!', 'Hi!']||Repetition|\n",
    "|4 in [1, 2, 3,4]||True||Membership|\n",
    "|for x in [1, 2, 3]: print x,||1 2 3||Iteration|"
   ]
  },
  {
   "cell_type": "markdown",
   "id": "0852c04a",
   "metadata": {},
   "source": [
    "## Indexing, Slicing, and Matrixes\n",
    "Because lists are sequences, indexing and slicing function in the same way they do for strings.Assuming following input −<br>\n",
    "L = ['python', 'Python', 'PYTHON!']\n",
    "\n",
    "|Python Expression||Results||Description|\n",
    "|:---||:----||:----|\n",
    "|L[2]||PYTHON!||Offsets start at zero|\n",
    "|L[-2]||Python||Negative: count from the right|\n",
    "|L[1:]||['Python','PYTHON!']||Slicing fetches sections|\n"
   ]
  },
  {
   "cell_type": "markdown",
   "id": "b18fef00",
   "metadata": {},
   "source": [
    "## Built-in List Functions & Methods\n",
    "Python includes the following list functions −\n",
    "\n",
    "|Serial no||Function||Description|\n",
    "|:----||:----||:----|\n",
    "|1||cmp(list1, list2)||Compares elements of both lists.|\n",
    "|2||len(list)||Gives the total length of the list.|\n",
    "|3||max(list)||Returns item from the list with max value.|\n",
    "|4||min(list)||Returns item from the list with min value.|\n",
    "|5||list(seq)||Converts a tuple into list.|\n",
    "\n",
    "Python includes following list methods -\n",
    "\n",
    "|Serial no||Methods||Description|\n",
    "|:----||:----||:----|\n",
    "|1||list.append(obj)||Appends object obj to list|\n",
    "|2||list.count(obj)||Returns count of how many times obj occurs in list|\n",
    "|3||list.extend(seq)||Appends the contents of seq to list|\n",
    "|4||list.index(obj)||Returns the lowest index in list that obj appears|\n",
    "|5||list.insert(index, obj)||Inserts object obj into list at offset index|\n",
    "|6||list.pop(obj=list[-1])||Removes and returns last object or obj from list|\n",
    "|7||list.remove(obj)||Removes object obj from list|\n",
    "|8||list.reverse()||Reverses objects of list in place|\n",
    "|9||list.sort([func])||Sorts objects of list, use compare func if given|"
   ]
  },
  {
   "cell_type": "code",
   "execution_count": null,
   "id": "55e2b66a",
   "metadata": {},
   "outputs": [],
   "source": []
  }
 ],
 "metadata": {
  "kernelspec": {
   "display_name": "Python 3 (ipykernel)",
   "language": "python",
   "name": "python3"
  },
  "language_info": {
   "codemirror_mode": {
    "name": "ipython",
    "version": 3
   },
   "file_extension": ".py",
   "mimetype": "text/x-python",
   "name": "python",
   "nbconvert_exporter": "python",
   "pygments_lexer": "ipython3",
   "version": "3.9.7"
  }
 },
 "nbformat": 4,
 "nbformat_minor": 5
}
