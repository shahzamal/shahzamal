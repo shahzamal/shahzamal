{
 "cells": [
  {
   "cell_type": "markdown",
   "id": "d35cd5cf",
   "metadata": {},
   "source": [
    "# Strings\n",
    "Single or double quotation marks are used to wrap strings in Python."
   ]
  },
  {
   "cell_type": "code",
   "execution_count": 2,
   "id": "0ea35656",
   "metadata": {},
   "outputs": [
    {
     "name": "stdout",
     "output_type": "stream",
     "text": [
      "Hello1\n",
      "Hello2\n"
     ]
    }
   ],
   "source": [
    "print(\"Hello1\")\n",
    "print('Hello2')"
   ]
  },
  {
   "cell_type": "markdown",
   "id": "5507a17c",
   "metadata": {},
   "source": [
    "##  Accessing Values in Strings\n",
    "Python does not have a character type; they are handled as one-length strings and are hence considered substrings.Example-"
   ]
  },
  {
   "cell_type": "code",
   "execution_count": 5,
   "id": "b28861ae",
   "metadata": {},
   "outputs": [
    {
     "name": "stdout",
     "output_type": "stream",
     "text": [
      "x[1]:  e\n",
      "y[2:8]:  thon P\n"
     ]
    }
   ],
   "source": [
    "x = 'Hello World!'\n",
    "y = \"Python Programming\"\n",
    "\n",
    "print(\"x[1]: \",x[1])\n",
    "print(\"y[2:8]: \", y[2:8])"
   ]
  },
  {
   "cell_type": "markdown",
   "id": "ac1da6df",
   "metadata": {},
   "source": [
    "## Updating Strings\n",
    "By (re)assigning a variable to another string, you can \"update\" an existing string. The new value might be connected to the previous one or it could be a totally different string. For example −"
   ]
  },
  {
   "cell_type": "code",
   "execution_count": 6,
   "id": "92fe531c",
   "metadata": {},
   "outputs": [
    {
     "name": "stdout",
     "output_type": "stream",
     "text": [
      "Updated string:  Hello Sayem\n"
     ]
    }
   ],
   "source": [
    "x=\"Hello world\"\n",
    "print(\"Updated string: \",x[:6]+\"Sayem\")"
   ]
  },
  {
   "cell_type": "markdown",
   "id": "776a85aa",
   "metadata": {},
   "source": [
    "## Escape Characters\n",
    "The table below contains a list of non-printable or escape characters that can be expressed using backslash notation.\n",
    "\n",
    "|Backslash <br>notation||Description|\n",
    "|:-----||:------|\n",
    "|\\a||Bell or alert|\n",
    "|\\b||Backspace|\n",
    "|\\cx||Control-x|\n",
    "|\\C-x||Control-x|\n",
    "|\\e||Escape|\n",
    "|\\f||Formfeed|\n",
    "|\\M-\\C-x||Meta-Control-x|\n",
    "|\\n||Newline|\n",
    "|\\nnn||Octal notation, where n is in the range 0.7|\n",
    "|\\r||Carriage return|\n",
    "|\\s||Space|\n",
    "|\\t||Tab|\n",
    "|\\v||Vertical tab|\n",
    "|\\x||Character x|\n",
    "|\\xnn||Hexadecimal notation, where n is in the <br>range 0.9, a.f, or A.F|\n"
   ]
  },
  {
   "cell_type": "markdown",
   "id": "b860f9cd",
   "metadata": {},
   "source": [
    "## String Special Operators\n",
    "Assume string variable a holds 'Hello' and variable b holds 'Python', then −\n",
    "\n",
    "|Operator||Description||Example|\n",
    "|:---||:----||:----|\n",
    "|+||Concatenation:- Adds values on either side of the <br>operator||a + b will give: HelloPython|\n",
    "|*||Repetition:- Creates new strings, concatenating <br>multiple copies of the same string||b*2 will give: PythonPython|\n",
    "|[]||Slice:- Gives the character from the given index||a[1] will give: e|\n",
    "|[:]||Range Slice:- Gives the characters from the given range||a[1:4] will give: ell|\n",
    "|in||Membership:- Returns true if a character exists in the <br>given string||H in a will give: 1|\n",
    "|not in||Membership - Returns true if a character does not exist in <br>the given string||M not in a will give: 1|\n",
    "|r/R||Raw String - Suppresses actual meaning of Escape characters. <br>The syntax for raw strings is exactly the same as for normal <br>strings with the exception of the raw string operator, the letter \"r,\" <br>which precedes the quotation marks. The \"r\" can be lowercase (r) <br>or uppercase (R) and must be placed immediately preceding the <br>first quote mark.||print r'\\n' prints \\n and print R'\\n'prints \\n|\n",
    "|%||Format:- Performs String formatting||See at next section|\n",
    "\n",
    "\n",
    "\n"
   ]
  },
  {
   "cell_type": "markdown",
   "id": "7ef2986b",
   "metadata": {},
   "source": [
    "## String Formatting Operator\n",
    "One of Python's coolest features is the string format operator %. This operator is unique to strings and makes up for the pack of having functions from C's printf() family. Following is a simple example −"
   ]
  },
  {
   "cell_type": "code",
   "execution_count": 7,
   "id": "e1625fe8",
   "metadata": {},
   "outputs": [
    {
     "name": "stdout",
     "output_type": "stream",
     "text": [
      "My name is Sayem and weight is 64 kg!\n"
     ]
    }
   ],
   "source": [
    "print(\"My name is %s and weight is %d kg!\" % ('Sayem', 64))"
   ]
  },
  {
   "cell_type": "markdown",
   "id": "a60626d5",
   "metadata": {},
   "source": [
    "Here is the list of complete set of symbols which can be used along with % −\n",
    "\n",
    "|Format Symbol||Conversion|\n",
    "|:---||:-----|\n",
    "|%c||character|\n",
    "|%s||string conversion via str() prior to formatting|\n",
    "|%i||signed decimal integer|\n",
    "|%d||signed decimal integer|\n",
    "|%u||unsigned decimal integer|\n",
    "|%o||octal integer|\n",
    "|%x||hexadecimal integer (lowercase letters)|\n",
    "|%X||hexadecimal integer (UPPERcase letters)|\n",
    "|%e||exponential notation (with lowercase 'e')|\n",
    "|%E||exponential notation (with UPPERcase 'E')|\n",
    "|%f||floating point real number|\n",
    "|%g||the shorter of %f and %e|\n",
    "|%G||the shorter of %f and %E|"
   ]
  },
  {
   "cell_type": "markdown",
   "id": "eabf1368",
   "metadata": {},
   "source": [
    "Other supported symbols and functionality are listed in the following table −\n",
    "\n",
    "|Symbol||Functionality|\n",
    "|:---||:----|\n",
    "|* ||argument specifies width or precision|\n",
    "|-||left justification|\n",
    "|+||display the sign|\n",
    "|\\<sp>||leave a blank space before a positive number|\n",
    "|#||add the octal leading zero ( '0' ) or hexadecimal leading <br>'0x' or '0X', depending on whether 'x' or 'X' were used.|\n",
    "|0||pad from left with zeros (instead of spaces)|\n",
    "|%||%%' leaves you with a single literal '%'|\n",
    "|(var)||mapping variable (dictionary arguments)|\n",
    "|m.n||m is the minimum total width and n is the number of <br>digits to display after the decimal point (if appl.)|"
   ]
  },
  {
   "cell_type": "markdown",
   "id": "9d9beb76",
   "metadata": {},
   "source": [
    "## Triple Quotes\n",
    "\n",
    "Python's triple quotes comes to the rescue by allowing strings to span multiple lines, including verbatim NEWLINEs, TABs, and any other special characters.\n"
   ]
  },
  {
   "cell_type": "code",
   "execution_count": 8,
   "id": "1ab5c3ac",
   "metadata": {},
   "outputs": [
    {
     "name": "stdout",
     "output_type": "stream",
     "text": [
      "this is a long string that is made up of\n",
      "several lines and non-printable characters such as\n",
      "TAB ( \t ) and they will show up that way when displayed.\n",
      "NEWLINEs within the string, whether explicitly given like\n",
      "this within the brackets [ \n",
      " ], or just a NEWLINE within\n",
      "the variable assignment will also show up.\n",
      "\n"
     ]
    }
   ],
   "source": [
    "str=\"\"\"this is a long string that is made up of\n",
    "several lines and non-printable characters such as\n",
    "TAB ( \\t ) and they will show up that way when displayed.\n",
    "NEWLINEs within the string, whether explicitly given like\n",
    "this within the brackets [ \\n ], or just a NEWLINE within\n",
    "the variable assignment will also show up.\n",
    "\"\"\"\n",
    "print(str)"
   ]
  },
  {
   "cell_type": "markdown",
   "id": "d6e19e0b",
   "metadata": {},
   "source": [
    "Raw strings do not treat the backslash as a special character at all. Every character you put into a raw string stays the way we wrote it −"
   ]
  },
  {
   "cell_type": "code",
   "execution_count": 11,
   "id": "6eb942b8",
   "metadata": {},
   "outputs": [
    {
     "name": "stdout",
     "output_type": "stream",
     "text": [
      "D:\\nowhere\n"
     ]
    }
   ],
   "source": [
    "print('D:\\\\nowhere')"
   ]
  },
  {
   "cell_type": "markdown",
   "id": "1e288f30",
   "metadata": {},
   "source": [
    "Now let's make use of raw string. We would put expression in r'expression' as follows −"
   ]
  },
  {
   "cell_type": "code",
   "execution_count": 10,
   "id": "274f7403",
   "metadata": {},
   "outputs": [
    {
     "name": "stdout",
     "output_type": "stream",
     "text": [
      "D:\\\\nowhere\n"
     ]
    }
   ],
   "source": [
    "print(r'D:\\\\nowhere')"
   ]
  },
  {
   "cell_type": "code",
   "execution_count": null,
   "id": "98a4751d",
   "metadata": {},
   "outputs": [],
   "source": []
  }
 ],
 "metadata": {
  "kernelspec": {
   "display_name": "Python 3 (ipykernel)",
   "language": "python",
   "name": "python3"
  },
  "language_info": {
   "codemirror_mode": {
    "name": "ipython",
    "version": 3
   },
   "file_extension": ".py",
   "mimetype": "text/x-python",
   "name": "python",
   "nbconvert_exporter": "python",
   "pygments_lexer": "ipython3",
   "version": "3.9.7"
  }
 },
 "nbformat": 4,
 "nbformat_minor": 5
}
