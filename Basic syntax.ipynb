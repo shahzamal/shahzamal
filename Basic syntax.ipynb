{
 "cells": [
  {
   "cell_type": "code",
   "execution_count": 1,
   "id": "8ccc6dcd",
   "metadata": {
    "scrolled": false
   },
   "outputs": [
    {
     "name": "stdout",
     "output_type": "stream",
     "text": [
      "Hello\n"
     ]
    }
   ],
   "source": [
    "#This is printing hello\n",
    "print(\"Hello\")"
   ]
  },
  {
   "cell_type": "markdown",
   "id": "78dd8895",
   "metadata": {},
   "source": [
    "# python basic syntax \n",
    "-A python identifer indicates name of variable, function, class, module or other object. It starts with a letter A to Z or a to z or an underscore (_) followed by zero or more letters, underscores and digits (0 to 9).Python is a case sensitive programming language.\n",
    "Class names start with an uppercase letter and others identifers will be lowercase letter.Starting with a single underscroe means that identifer will is private and with double underscore means storngly private indentifer.If a identifier also ends with two trailing underscores, the identifier is a language-defined special name.\n"
   ]
  },
  {
   "cell_type": "markdown",
   "id": "9a8d7a8a",
   "metadata": {},
   "source": [
    "# Reserved words\n",
    "These following words are python keywords and cant's be use as indentifer name and keywords contain only lowercase latters only:\n",
    "\n",
    "|1||2||3|\n",
    "|:---------||:------------||:-----------|\n",
    "|not||elif||raise|\n",
    "|in||import||global|  \n",
    "|try||del||continue|\n",
    "|while||return||print|\n",
    "|else||if||from|\n",
    "|is| |def||class|\n",
    "|with||pass||for|\n",
    "|except||break||or|\n",
    "|lambda||finally||assert|\n",
    "|yield||exec||and|\n"
   ]
  },
  {
   "cell_type": "markdown",
   "id": "795ed519",
   "metadata": {},
   "source": [
    "# Lines and Indentation\n",
    "Python provides no braces to indicate blocks of code for class and function definitions or flow control.The number of spaces in the indentation is variable, but all statements within the block must be indented the same amount.\n",
    "\n",
    "Example:\n",
    "\n",
    "if True:<br>\n",
    "&emsp;   print \"True\"<br>\n",
    "else:<br>\n",
    "&emsp;   print \"False\"\n",
    "\n",
    "However, the following block generates an error:\n",
    "\n",
    "if True:<br>\n",
    "print \"Answer\"<br>\n",
    "print \"True\"<br>\n",
    "else:<br>\n",
    "print \"Answer\"<br>\n",
    "print \"False\"<br>"
   ]
  },
  {
   "cell_type": "markdown",
   "id": "161fd9ab",
   "metadata": {},
   "source": [
    "# Multi-Line Statements\n",
    "Statements in Python typically end with a new line. Python does, however, allow the use of the line continuation character to denote that the line should continue.Statements contained within the [], {}, or () brackets do not need to use the line continuation character. \\\n",
    "Example: days =['Sunday','Monday','Tuesday']\n"
   ]
  },
  {
   "cell_type": "markdown",
   "id": "e341eebe",
   "metadata": {},
   "source": [
    "# Comments in Python\n",
    "All characters after the  #  and up to the end of the physical line are part of the comment and the Python interpreter ignores them."
   ]
  },
  {
   "cell_type": "code",
   "execution_count": 38,
   "id": "4551aeb6",
   "metadata": {},
   "outputs": [
    {
     "name": "stdout",
     "output_type": "stream",
     "text": [
      "Hello\n"
     ]
    }
   ],
   "source": [
    "#This is a comment\n",
    "print(\"Hello\")"
   ]
  },
  {
   "cell_type": "code",
   "execution_count": 39,
   "id": "7cf834d2",
   "metadata": {},
   "outputs": [
    {
     "name": "stdout",
     "output_type": "stream",
     "text": [
      "Hello comments\n"
     ]
    }
   ],
   "source": [
    "#Multi line comments1\n",
    "#Multi line comments2\n",
    "#Multi line comments3\n",
    "#Multi line comments4\n",
    "print(\"Hello comments\")"
   ]
  },
  {
   "cell_type": "code",
   "execution_count": 40,
   "id": "bd22fbc6",
   "metadata": {},
   "outputs": [
    {
     "name": "stdout",
     "output_type": "stream",
     "text": [
      "Hello world\n"
     ]
    }
   ],
   "source": [
    "'''This is also multi line comments'''\n",
    "print(\"Hello world\")"
   ]
  },
  {
   "cell_type": "markdown",
   "id": "39e58b29",
   "metadata": {},
   "source": [
    "# Using Blank Lines\n",
    "Python totally ignores A line containing only whitespace."
   ]
  },
  {
   "cell_type": "markdown",
   "id": "46715458",
   "metadata": {},
   "source": [
    "# Multiple Statement On Single Line\n",
    "The semicolon ( ; ) allows multiple statements on the single line given that neither statement starts a new code block.\n",
    "Example:                                                                                                                \n"
   ]
  },
  {
   "cell_type": "code",
   "execution_count": 36,
   "id": "f9f7c61b",
   "metadata": {},
   "outputs": [
    {
     "data": {
      "text/html": [
       "import sys; x = 'foo'; sys.stdout.write(x + '\\n')\n"
      ],
      "text/plain": [
       "<IPython.core.display.HTML object>"
      ]
     },
     "metadata": {},
     "output_type": "display_data"
    }
   ],
   "source": [
    "%%HTML\n",
    "import sys; x = 'foo'; sys.stdout.write(x + '\\n')"
   ]
  }
 ],
 "metadata": {
  "kernelspec": {
   "display_name": "Python 3 (ipykernel)",
   "language": "python",
   "name": "python3"
  },
  "language_info": {
   "codemirror_mode": {
    "name": "ipython",
    "version": 3
   },
   "file_extension": ".py",
   "mimetype": "text/x-python",
   "name": "python",
   "nbconvert_exporter": "python",
   "pygments_lexer": "ipython3",
   "version": "3.9.7"
  }
 },
 "nbformat": 4,
 "nbformat_minor": 5
}
