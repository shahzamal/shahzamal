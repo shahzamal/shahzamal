{
 "cells": [
  {
   "cell_type": "markdown",
   "id": "c3eb753b",
   "metadata": {},
   "source": [
    "# Python-Numbers\n",
    "Number data types store numeric values.Python supports integers, floating-point numbers and complex numbers.The formula for complex numbers is x + yj, where x is the real part and y is the imaginary part.\n",
    "## Type Conversion\n",
    "We can convert one type of number into another. This is also known as coercion.\n",
    "- Type int(x) to convert x to a plain integer.\n",
    "- Type long(x) to convert x to a long integer.\n",
    "- Type float(x) to convert x to a floating-point number.\n",
    "- Type complex(x) to convert x to a complex number with real part x and imaginary part zero.\n",
    "- Type complex(x, y) to convert x and y to a complex number with real part x and imaginary part y. x and y are numeric expressions\n"
   ]
  },
  {
   "cell_type": "code",
   "execution_count": 3,
   "id": "634e8aab",
   "metadata": {},
   "outputs": [
    {
     "name": "stdout",
     "output_type": "stream",
     "text": [
      "1.0\n",
      "2\n",
      "(1+0j)\n",
      "<class 'float'>\n",
      "<class 'int'>\n",
      "<class 'complex'>\n"
     ]
    }
   ],
   "source": [
    "x = 1    # int\n",
    "y = 2.8  # float\n",
    "\n",
    "#convert from int to float:\n",
    "a = float(x)\n",
    "\n",
    "#convert from float to int:\n",
    "b = int(y)\n",
    "\n",
    "#convert from int to complex:\n",
    "c = complex(x)\n",
    "\n",
    "print(a)\n",
    "print(b)\n",
    "print(c)\n",
    "\n",
    "print(type(a))\n",
    "print(type(b))\n",
    "print(type(c))"
   ]
  },
  {
   "cell_type": "markdown",
   "id": "99dbb47d",
   "metadata": {},
   "source": [
    "## Mathematical Functions\n",
    "The functions listed below conduct mathematical calculations in Python.\n",
    "\n",
    "|Serial no.||Function||Description|\n",
    "|:----------||:--------||:-----------|\n",
    "|1||abs(x)||The absolute value of x: the (positive) distance between x and zero.|\n",
    "|2||ceil(x)||The ceiling of x: the smallest integer not less than x|\n",
    "|3||cmp(x, y)||returns the sign of the difference of two numbers : <br>-1 if x < y, 0 if x == y, or 1 if x > y.|\n",
    "|4||exp(x)||The exponential of x: ex|\n",
    "|5||fabs(x)||The absolute value of x|\n",
    "|6||floor(x)||The floor of x: the largest integer not greater than x|\n",
    "|7||log(x)||The natural logarithm of x, for x> 0|\n",
    "|8||log10(x)||The base-10 logarithm of x for x> 0.|\n",
    "|9||max(x1, x2,...)||The largest of its arguments: the value closest to positive infinity|\n",
    "|10||min(x1, x2,...)||The smallest of its arguments: the value closest to negative infinity|\n",
    "|11||modf(x)||The fractional and integer parts of x in a two-item tuple.Both parts <br>have the same sign as x. The integer part is returned as a float.|\n",
    "|12||pow(x, y)||The value of x**y.|\n",
    "|13||round(x [,n])||x rounded to n digits from the decimal point.|\n",
    "|14||sqrt(x)||The square root of x for x > 0|"
   ]
  },
  {
   "cell_type": "code",
   "execution_count": 27,
   "id": "3d25370b",
   "metadata": {},
   "outputs": [
    {
     "name": "stdout",
     "output_type": "stream",
     "text": [
      "math.modf(math.e) :  (0.7182818284590451, 2.0)\n",
      "math.modf(111.138) :  (0.13800000000000523, 111.0)\n",
      "round(126.3726372, 3) :  126.373\n",
      "max(-113, 1020, 10.30) :  1000\n"
     ]
    }
   ],
   "source": [
    "import math\n",
    "#Example of modf() function\n",
    "print(\"math.modf(math.e) : \", math.modf(math.e))\n",
    "print(\"math.modf(111.138) : \", math.modf(111.138))\n",
    "\n",
    "#Example of round() function\n",
    "print(\"round(126.3726372, 3) : \", round(126.3726372, 3))\n",
    "\n",
    "#Example of max() function\n",
    "print(\"max(-113, 1020, 10.30) : \", max(80, 100, 1000))\n",
    "\n"
   ]
  },
  {
   "cell_type": "markdown",
   "id": "9945d0ae",
   "metadata": {},
   "source": [
    "## Random Number Functions\n",
    "Random numbers are used for games, simulations, testing, security, and privacy applications. Python includes following functions that are commonly used.\n",
    "\n",
    "|Serial no.||Function||Description|\n",
    "|:----------||:--------||:-----------|\n",
    "|1||choice(seq)||A random item from a list, tuple, or string.|\n",
    "|2||randrange ([start,] stop [,step])||A randomly selected element from range(start, stop, step)|\n",
    "|3||random()||A random float r, such that 0 is less than or equal to r and r is less than 1|\n",
    "|4||seed([x])||Sets the integer starting value used in generating random numbers. Call this <br>function before calling any other random module function. Returns None.|\n",
    "|5||shuffle(lst)||Randomizes the items of a list in place. Returns None.|\n",
    "|6||uniform(x, y)||A random float r, such that x is less than or equal to r and r is less than y|"
   ]
  },
  {
   "cell_type": "code",
   "execution_count": 11,
   "id": "0de16d8b",
   "metadata": {},
   "outputs": [
    {
     "name": "stdout",
     "output_type": "stream",
     "text": [
      "5\n",
      "choice[1, 2, 3, 5, 6] from :  2\n",
      "choice('Sayem') :  S\n",
      "random() :  0.5206693596399246\n",
      "Random number with seed 10 :  0.5714025946899135\n",
      "Reshuffled after 1st time :  [5, 1, 3, 7]\n",
      "Reshuffled after 2nd time :  [5, 3, 7, 1]\n",
      "Random Float uniform(5, 10) :  9.117944362667227\n"
     ]
    }
   ],
   "source": [
    "import random\n",
    "#Example of randrange() function\n",
    "print(random.randrange(1, 10))\n",
    "\n",
    "#Example of choice() function\n",
    "print(\"choice[1, 2, 3, 5, 6] from : \", random.choice([1, 2, 3, 5, 6]))\n",
    "print(\"choice('Sayem') : \", random.choice('Sayem'))\n",
    "\n",
    "#Example of random() function\n",
    "print(\"random() : \", random.random())\n",
    "\n",
    "#Example of seed() function\n",
    "random.seed( 10 )\n",
    "print(\"Random number with seed 10 : \", random.random())\n",
    "\n",
    "#Example of shuffle() function\n",
    "list = [1, 3, 5, 7];\n",
    "random.shuffle(list)\n",
    "print(\"Reshuffled after 1st time : \",  list) \n",
    "\n",
    "random.shuffle(list)\n",
    "print(\"Reshuffled after 2nd time : \",  list)\n",
    "\n",
    "#Example of unifrom() function\n",
    "print(\"Random Float uniform(5, 10) : \",  random.uniform(5, 10))"
   ]
  },
  {
   "cell_type": "markdown",
   "id": "0c657f21",
   "metadata": {},
   "source": [
    "## Trigonometric Functions\n",
    "Python includes following functions that perform trigonometric calculations.\n",
    "\n",
    "\n",
    "|Serial no.||Function||Description|\n",
    "|:----------||:--------||:-----------|\n",
    "|1||acos(x)||Return the arc cosine of x, in radians.|\n",
    "|2||asin(x)||Return the arc sine of x, in radians.|\n",
    "|3||atan(x)||Return the arc tangent of x, in radians.|\n",
    "|4||atan2(y, x)||Return atan(y / x), in radians.|\n",
    "|5||cos(x)||Return the cosine of x radians.|\n",
    "|6||hypot(x, y)||Return the Euclidean norm, sqrt(x*x + y*y).|\n",
    "|7||sin(x)||Return the sine of x radians.|\n",
    "|8||tan(x)||Return the tangent of x radians.|\n",
    "|9||degrees(x)||Converts angle x from radians to degrees.|\n",
    "|10||radians(x)||Converts angle x from degrees to radians.|"
   ]
  },
  {
   "cell_type": "code",
   "execution_count": null,
   "id": "2aed6315",
   "metadata": {},
   "outputs": [],
   "source": []
  }
 ],
 "metadata": {
  "kernelspec": {
   "display_name": "Python 3 (ipykernel)",
   "language": "python",
   "name": "python3"
  },
  "language_info": {
   "codemirror_mode": {
    "name": "ipython",
    "version": 3
   },
   "file_extension": ".py",
   "mimetype": "text/x-python",
   "name": "python",
   "nbconvert_exporter": "python",
   "pygments_lexer": "ipython3",
   "version": "3.9.7"
  }
 },
 "nbformat": 4,
 "nbformat_minor": 5
}
